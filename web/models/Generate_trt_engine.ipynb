{
 "cells": [
  {
   "cell_type": "code",
   "execution_count": 1,
   "id": "404042d7-2019-4f4a-aa4d-145f50ea79d0",
   "metadata": {
    "tags": []
   },
   "outputs": [
    {
     "name": "stdout",
     "output_type": "stream",
     "text": [
      "env: TRT_LIB_PATH=/usr/lib/aarch64-linux-gnu\n",
      "env: TRT_INC_PATH=~/usr/include/aarch64-linux-gnu\n",
      "env: KEY=OW1paDZ2Zm1zaHNlM2ljbmZjdml0MDh2OHY6YzAyNGY2ZGMtNGQ3OS00NmI4LTg4YTItY2ViODM5N2EwMDIw\n"
     ]
    }
   ],
   "source": [
    "%env TRT_LIB_PATH=/usr/lib/aarch64-linux-gnu\n",
    "%env TRT_INC_PATH=~/usr/include/aarch64-linux-gnu\n",
    "\n",
    "%env KEY=OW1paDZ2Zm1zaHNlM2ljbmZjdml0MDh2OHY6YzAyNGY2ZGMtNGQ3OS00NmI4LTg4YTItY2ViODM5N2EwMDIw"
   ]
  },
  {
   "cell_type": "code",
   "execution_count": 2,
   "id": "28f076e9-c77a-4b3c-ab88-5ad88822da17",
   "metadata": {
    "tags": []
   },
   "outputs": [
    {
     "name": "stdout",
     "output_type": "stream",
     "text": [
      "Authenticating with existing credentials...\n",
      "WARNING! Your password will be stored unencrypted in /home/ethan/.docker/config.json.\n",
      "Configure a credential helper to remove this warning. See\n",
      "https://docs.docker.com/engine/reference/commandline/login/#credentials-store\n",
      "\n",
      "Login Succeeded\n"
     ]
    }
   ],
   "source": [
    "!docker login nvcr.io"
   ]
  },
  {
   "cell_type": "code",
   "execution_count": 3,
   "id": "bf82a594",
   "metadata": {},
   "outputs": [
    {
     "name": "stdout",
     "output_type": "stream",
     "text": [
      "[INFO] [MemUsageChange] Init CUDA: CPU +363, GPU +0, now: CPU 381, GPU 4727 (MiB)\n",
      "[INFO] [MemUsageSnapshot] Begin constructing builder kernel library: CPU 381 MiB, GPU 4756 MiB\n",
      "[INFO] [MemUsageSnapshot] End constructing builder kernel library: CPU 486 MiB, GPU 4860 MiB\n",
      "[INFO] ---------- Layers Running on DLA ----------\n",
      "[INFO] ---------- Layers Running on GPU ----------\n",
      "[INFO] [GpuLayer] conv1/convolution + activation_2/Relu\n",
      "[INFO] [GpuLayer] block_1a_conv_1/convolution + block_1a_relu_1/Relu\n",
      "[INFO] [GpuLayer] block_1a_conv_shortcut/convolution\n",
      "[INFO] [GpuLayer] block_1a_conv_2/convolution + add_9/add + block_1a_relu/Relu\n",
      "[INFO] [GpuLayer] block_1b_conv_1/convolution + block_1b_relu_1/Relu\n",
      "[INFO] [GpuLayer] block_1b_conv_shortcut/convolution\n",
      "[INFO] [GpuLayer] block_1b_conv_2/convolution + add_10/add + block_1b_relu/Relu\n",
      "[INFO] [GpuLayer] block_2a_conv_1/convolution + block_2a_relu_1/Relu\n",
      "[INFO] [GpuLayer] block_2a_conv_shortcut/convolution\n",
      "[INFO] [GpuLayer] block_2a_conv_2/convolution + add_11/add + block_2a_relu/Relu\n",
      "[INFO] [GpuLayer] block_2b_conv_1/convolution + block_2b_relu_1/Relu\n",
      "[INFO] [GpuLayer] block_2b_conv_shortcut/convolution\n",
      "[INFO] [GpuLayer] block_2b_conv_2/convolution + add_12/add + block_2b_relu/Relu\n",
      "[INFO] [GpuLayer] ssd_loc_0/convolution\n",
      "[INFO] [GpuLayer] ssd_anchor_0/Const\n",
      "[INFO] [GpuLayer] FirstDimTile_0\n",
      "[INFO] [GpuLayer] anchor_reshape_0/Reshape\n",
      "[INFO] [GpuLayer] block_3a_conv_1/convolution + block_3a_relu_1/Relu\n",
      "[INFO] [GpuLayer] block_3a_conv_shortcut/convolution\n",
      "[INFO] [GpuLayer] block_3a_conv_2/convolution + add_13/add + block_3a_relu/Relu\n",
      "[INFO] [GpuLayer] block_3b_conv_1/convolution + block_3b_relu_1/Relu\n",
      "[INFO] [GpuLayer] block_3b_conv_shortcut/convolution\n",
      "[INFO] [GpuLayer] block_3b_conv_2/convolution + add_14/add + block_3b_relu/Relu\n",
      "[INFO] [GpuLayer] block_4a_conv_1/convolution + block_4a_relu_1/Relu\n",
      "[INFO] [GpuLayer] block_4a_conv_shortcut/convolution\n",
      "[INFO] [GpuLayer] block_4a_conv_2/convolution + add_15/add + block_4a_relu/Relu\n",
      "[INFO] [GpuLayer] block_4b_conv_1/convolution + block_4b_relu_1/Relu\n",
      "[INFO] [GpuLayer] block_4b_conv_shortcut/convolution\n",
      "[INFO] [GpuLayer] block_4b_conv_2/convolution + add_16/add + block_4b_relu/Relu\n",
      "[INFO] [GpuLayer] ssd_expand_block_0_conv_0/convolution + ssd_expand_block_0_relu_0/Relu\n",
      "[INFO] [GpuLayer] ssd_expand_block_0_conv_1/convolution + ssd_expand_block_0_relu_1/Relu\n",
      "[INFO] [GpuLayer] ssd_loc_1/convolution\n",
      "[INFO] [GpuLayer] ssd_anchor_1/Const\n",
      "[INFO] [GpuLayer] FirstDimTile_1\n",
      "[INFO] [GpuLayer] anchor_reshape_1/Reshape\n",
      "[INFO] [GpuLayer] ssd_expand_block_1_conv_0/convolution + ssd_expand_block_1_relu_0/Relu\n",
      "[INFO] [GpuLayer] ssd_expand_block_1_conv_1/convolution + ssd_expand_block_1_relu_1/Relu\n",
      "[INFO] [GpuLayer] ssd_loc_2/convolution\n",
      "[INFO] [GpuLayer] ssd_anchor_2/Const\n",
      "[INFO] [GpuLayer] FirstDimTile_2\n",
      "[INFO] [GpuLayer] anchor_reshape_2/Reshape\n",
      "[INFO] [GpuLayer] ssd_expand_block_2_conv_0/convolution + ssd_expand_block_2_relu_0/Relu\n",
      "[INFO] [GpuLayer] ssd_expand_block_2_conv_1/convolution + ssd_expand_block_2_relu_1/Relu\n",
      "[INFO] [GpuLayer] ssd_loc_3/convolution\n",
      "[INFO] [GpuLayer] ssd_anchor_3/Const\n",
      "[INFO] [GpuLayer] FirstDimTile_3\n",
      "[INFO] [GpuLayer] anchor_reshape_3/Reshape\n",
      "[INFO] [GpuLayer] ssd_expand_block_3_conv_0/convolution + ssd_expand_block_3_relu_0/Relu\n",
      "[INFO] [GpuLayer] ssd_expand_block_3_conv_1/convolution + ssd_expand_block_3_relu_1/Relu\n",
      "[INFO] [GpuLayer] ssd_loc_4/convolution\n",
      "[INFO] [GpuLayer] ssd_anchor_4/Const\n",
      "[INFO] [GpuLayer] FirstDimTile_4\n",
      "[INFO] [GpuLayer] anchor_reshape_4/Reshape\n",
      "[INFO] [GpuLayer] ssd_expand_block_4_conv_0/convolution + ssd_expand_block_4_relu_0/Relu\n",
      "[INFO] [GpuLayer] ssd_expand_block_4_conv_1/convolution + ssd_expand_block_4_relu_1/Relu\n",
      "[INFO] [GpuLayer] ssd_loc_5/convolution\n",
      "[INFO] [GpuLayer] ssd_anchor_5/Const\n",
      "[INFO] [GpuLayer] FirstDimTile_5\n",
      "[INFO] [GpuLayer] anchor_reshape_5/Reshape\n",
      "[INFO] [GpuLayer] anchor_reshape/Reshape + (Unnamed Layer* 538) [Shuffle]\n",
      "[INFO] [GpuLayer] anchor_data/Reshape\n",
      "[INFO] [GpuLayer] (Unnamed Layer* 547) [Shuffle] + loc_reshape_0/Reshape\n",
      "[INFO] [GpuLayer] (Unnamed Layer* 556) [Shuffle] + loc_reshape_1/Reshape\n",
      "[INFO] [GpuLayer] (Unnamed Layer* 565) [Shuffle] + loc_reshape_2/Reshape\n",
      "[INFO] [GpuLayer] (Unnamed Layer* 574) [Shuffle] + loc_reshape_3/Reshape\n",
      "[INFO] [GpuLayer] (Unnamed Layer* 583) [Shuffle] + loc_reshape_4/Reshape\n",
      "[INFO] [GpuLayer] (Unnamed Layer* 592) [Shuffle] + loc_reshape_5/Reshape\n",
      "[INFO] [GpuLayer] loc_data/Reshape\n",
      "[INFO] [GpuLayer] ssd_conf_0/convolution\n",
      "[INFO] [GpuLayer] (Unnamed Layer* 613) [Shuffle] + conf_reshape_0/Reshape\n",
      "[INFO] [GpuLayer] ssd_conf_1/convolution\n",
      "[INFO] [GpuLayer] (Unnamed Layer* 626) [Shuffle] + conf_reshape_1/Reshape\n",
      "[INFO] [GpuLayer] ssd_conf_2/convolution\n",
      "[INFO] [GpuLayer] (Unnamed Layer* 639) [Shuffle] + conf_reshape_2/Reshape\n",
      "[INFO] [GpuLayer] ssd_conf_3/convolution\n",
      "[INFO] [GpuLayer] (Unnamed Layer* 652) [Shuffle] + conf_reshape_3/Reshape\n",
      "[INFO] [GpuLayer] ssd_conf_4/convolution\n",
      "[INFO] [GpuLayer] (Unnamed Layer* 665) [Shuffle] + conf_reshape_4/Reshape\n",
      "[INFO] [GpuLayer] ssd_conf_5/convolution\n",
      "[INFO] [GpuLayer] (Unnamed Layer* 678) [Shuffle] + conf_reshape_5/Reshape\n",
      "[INFO] [GpuLayer] (Unnamed Layer* 682) [Shuffle]\n",
      "[INFO] [GpuLayer] mbox_conf_softmax_/Softmax\n",
      "[INFO] [GpuLayer] (Unnamed Layer* 691) [Shuffle] + conf_data/Reshape\n",
      "[INFO] [GpuLayer] NMS\n",
      "[INFO] [MemUsageChange] Init cuBLAS/cuBLASLt: CPU +227, GPU +222, now: CPU 761, GPU 5137 (MiB)\n",
      "[INFO] [MemUsageChange] Init cuDNN: CPU +307, GPU +312, now: CPU 1068, GPU 5449 (MiB)\n",
      "[INFO] Local timing cache in use. Profiling results in this builder pass will not be stored.\n",
      "[INFO] Detected 1 inputs and 2 output network tensors.\n",
      "[INFO] Total Host Persistent Memory: 70656\n",
      "[INFO] Total Device Persistent Memory: 31107584\n",
      "[INFO] Total Scratch Memory: 754432\n",
      "[INFO] [MemUsageStats] Peak memory usage of TRT CPU/GPU memory allocators: CPU 16 MiB, GPU 554 MiB\n",
      "[INFO] [BlockAssignment] Algorithm ShiftNTopDown took 27.3167ms to assign 15 blocks to 69 nodes requiring 6349824 bytes.\n",
      "[INFO] Total Activation Memory: 6349824\n",
      "[INFO] [MemUsageChange] Init cuBLAS/cuBLASLt: CPU +0, GPU +0, now: CPU 1539, GPU 6730 (MiB)\n",
      "[INFO] [MemUsageChange] Init cuDNN: CPU +1, GPU +0, now: CPU 1540, GPU 6730 (MiB)\n",
      "[INFO] [MemUsageChange] TensorRT-managed allocation in building engine: CPU +14, GPU +32, now: CPU 14, GPU 32 (MiB)\n"
     ]
    }
   ],
   "source": [
    "!./tao-converter -k OW1paDZ2Zm1zaHNlM2ljbmZjdml0MDh2OHY6YzAyNGY2ZGMtNGQ3OS00NmI4LTg4YTItY2ViODM5N2EwMDIw \\\n",
    "                   -d 3,300,300 \\\n",
    "                   -o NMS \\\n",
    "                   -e TRT_ssd_resnet18_box.bin \\\n",
    "                   -m 1 \\\n",
    "                   -t fp32 \\\n",
    "                   -i nchw \\\n",
    "                   ssd_resnet18_epoch_080.etlt"
   ]
  },
  {
   "cell_type": "code",
   "execution_count": null,
   "id": "3f25f780",
   "metadata": {},
   "outputs": [],
   "source": []
  }
 ],
 "metadata": {
  "kernelspec": {
   "display_name": "Python 3 (ipykernel)",
   "language": "python",
   "name": "python3"
  },
  "language_info": {
   "codemirror_mode": {
    "name": "ipython",
    "version": 3
   },
   "file_extension": ".py",
   "mimetype": "text/x-python",
   "name": "python",
   "nbconvert_exporter": "python",
   "pygments_lexer": "ipython3",
   "version": "3.7.5"
  }
 },
 "nbformat": 4,
 "nbformat_minor": 5
}
